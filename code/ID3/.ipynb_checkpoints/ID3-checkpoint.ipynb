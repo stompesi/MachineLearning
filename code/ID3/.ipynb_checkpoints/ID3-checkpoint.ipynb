{
 "cells": [
  {
   "cell_type": "code",
   "execution_count": null,
   "metadata": {
    "collapsed": false
   },
   "outputs": [],
   "source": [
    "import id3, csv\n"
   ]
  },
  {
   "cell_type": "code",
   "execution_count": null,
   "metadata": {
    "collapsed": false
   },
   "outputs": [],
   "source": [
    "training_data_set = []\n",
    "\n",
    "with open('./data/training_set.csv', newline='') as f:\n",
    "    reader = csv.reader(f)\n",
    "    for line in reader:\n",
    "          training_data_set.append(line[:])"
   ]
  },
  {
   "cell_type": "code",
   "execution_count": null,
   "metadata": {
    "collapsed": false
   },
   "outputs": [],
   "source": [
    "id3.train(training_data_set, \"DecisionTree.xml\")"
   ]
  },
  {
   "cell_type": "code",
   "execution_count": null,
   "metadata": {
    "collapsed": false
   },
   "outputs": [],
   "source": [
    "test_data_set = []\n",
    "answer = []\n",
    "\n",
    "with open('./data/testing_set.csv', newline='') as f:\n",
    "    reader = csv.reader(f)\n",
    "    for line in reader:\n",
    "        test_data_set.append(line[:])\n",
    "        answer.append(line[-1])\n",
    "answer.pop(0)"
   ]
  },
  {
   "cell_type": "code",
   "execution_count": null,
   "metadata": {
    "collapsed": false
   },
   "outputs": [],
   "source": [
    "prediction = id3.predict(\"model.txt\", test_data_set)"
   ]
  },
  {
   "cell_type": "code",
   "execution_count": null,
   "metadata": {
    "collapsed": false
   },
   "outputs": [],
   "source": [
    "err = 0\n",
    "\n",
    "for i in range(len(answer)):\n",
    "    if not answer[i] == prediction[i]:\n",
    "        err = err + 1\n",
    "\n",
    "print (\"error rate=\", round(float(err) / len(prediction) * 100, 2), \"%\")"
   ]
  }
 ],
 "metadata": {
  "kernelspec": {
   "display_name": "Python 3",
   "language": "python",
   "name": "python3"
  },
  "language_info": {
   "codemirror_mode": {
    "name": "ipython",
    "version": 3
   },
   "file_extension": ".py",
   "mimetype": "text/x-python",
   "name": "python",
   "nbconvert_exporter": "python",
   "pygments_lexer": "ipython3",
   "version": "3.4.2"
  }
 },
 "nbformat": 4,
 "nbformat_minor": 0
}
