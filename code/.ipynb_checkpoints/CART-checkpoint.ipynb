{
 "metadata": {
  "name": "",
  "signature": "sha256:62a433cf0deba93a626a5cedf60b34c888e4e5229dc9e7870d512e9dc0527ed6"
 },
 "nbformat": 3,
 "nbformat_minor": 0,
 "worksheets": [
  {
   "cells": [
    {
     "cell_type": "code",
     "collapsed": false,
     "input": [],
     "language": "python",
     "metadata": {},
     "outputs": []
    }
   ],
   "metadata": {}
  }
 ]
}