{
 "cells": [
  {
   "cell_type": "code",
   "execution_count": 1,
   "metadata": {
    "collapsed": true
   },
   "outputs": [],
   "source": [
    "def load_data_set():\n",
    "    # 달마시안 애호가 전자 게시판에서 가져온 문서 집합을 토큰화 한 것\n",
    "    posting_list = [['my', 'dog', 'has', 'flea', 'problems', 'help', 'please'],\n",
    "                   ['maybe', 'not', 'take', 'him', 'to', 'dog', 'park', 'stupid'],\n",
    "                   ['my', 'dalmation', 'is', 'so', 'cute', 'I', 'love', 'him'],\n",
    "                   ['stop', 'posting', 'stupid', 'worthless', 'garbage'],\n",
    "                   ['mr', 'licks', 'ate', 'my', 'steak', 'how', 'to', 'stop', 'him'],\n",
    "                   ['quit', 'buying', 'worthless', 'dog', 'food', 'stupid']]\n",
    "\n",
    "    # 1: 폭력적임, 0: 폭력적이지 않음\n",
    "    # 텍스트에 사람이 직접 분류 항목 표시를 붙이고, 폭력적인 게시물을 자동적으로 감지하는 프로그램을 훈련하는데 사용한다.\n",
    "    class_vec = [0,1,0,1,0,1] \n",
    "    return posting_list, class_vec\n",
    "\n",
    "# 모든 문서에 있는 모든 유일한 단어 목록을 생성한다.\n",
    "def create_vocab_list(data_set):\n",
    "    # 비어있는 집합 생성\n",
    "    vocab_set = set([]) \n",
    "    for document in data_set:\n",
    "        # 연산자 | 는 두 개의 집합 유형의 변수를 합치는 데 사용하는 연산자.\n",
    "        # 두 개의 집합 통합 생성\n",
    "        # ex) {'a', 'b', 'c'} | {'c', 'd', 'e'} \n",
    "        #     -> {'a', 'b', 'c', 'd', 'e'} \n",
    "        vocab_set = vocab_set | set(document)\n",
    "    return list(vocab_set)\n",
    "\n",
    "# 주어진 문서 내에 어휘 목록에 있는 단어가 존재하는지 아닌지를 표현하기 위해 어휘 목록, 문서, \n",
    "# 1과 0의 출력 벡터를 사용한다.\n",
    "def set_of_words_2_vec(vocab_list, input_set):\n",
    "    # 모두 0인 벡터 생성\n",
    "    return_vec = [0] * len(vocab_list) \n",
    "    for word in input_set:\n",
    "        if word in vocab_list:\n",
    "            return_vec[vocab_list.index(word)] = 1\n",
    "        else:\n",
    "            print (\"the word: %s is not in my Vocablulary!\" % word)\n",
    "    return return_vec"
   ]
  },
  {
   "cell_type": "code",
   "execution_count": 2,
   "metadata": {
    "collapsed": true
   },
   "outputs": [],
   "source": [
    "from numpy import *\n",
    "\n",
    "def train(train_matrix, train_category):\n",
    "    # 문서의 수\n",
    "    num_train_docs = len(train_matrix)\n",
    "    \n",
    "    # 한문서의 최대 단어수\n",
    "    num_words = len(train_matrix[0])\n",
    "    \n",
    "    # 폭력적인 문서의 확률 계산\n",
    "    # 1의 값이 폭력적이기 때문에 train_category를 합하면 폭력적인 문서의 수가 나온다.\n",
    "    # 폭력적인 문서 수 / 전체 문서 수\n",
    "    # 현재는 분류 항목이 두개 이기때문에 가능 / 분류 항목이 2개 이상이면 이부분을 수정해야 한다.\n",
    "    p_abusive = sum(train_category) / float(num_train_docs)\n",
    "    \n",
    "    # 확률 초기화\n",
    "    # zerors: num_words(인자값) 수 만큼 0. 배열 만듬\n",
    "    p_0_num = ones(num_words) \n",
    "    p_1_num = ones(num_words)\n",
    "    p_0_denom = 2.0\n",
    "    p_1_denom = 2.0\n",
    "    \n",
    "    # 벡터 추가 \n",
    "    for i in range(num_train_docs):\n",
    "        if train_category[i] == 1:\n",
    "            p_1_num += train_matrix[i]\n",
    "            p_1_denom += sum(train_matrix[i])\n",
    "        else:\n",
    "            p_0_num += train_matrix[i]\n",
    "            p_0_denom += sum(train_matrix[i])\n",
    "\n",
    "    # 원소 나누기\n",
    "    p_1_vect = log(p_1_num / p_1_denom)\n",
    "    p_0_vect = log(p_0_num / p_1_denom)\n",
    "    return p_0_vect, p_1_vect, p_abusive"
   ]
  },
  {
   "cell_type": "code",
   "execution_count": 3,
   "metadata": {
    "collapsed": false
   },
   "outputs": [],
   "source": [
    "def classify(vec_2_classify, p_0_vec, p_1_vec, p_class_1):\n",
    "    p1 = sum(vec_2_classify * p_1_vec) + log(p_class_1)\n",
    "    p0 = sum(vec_2_classify * p_0_vec) + log(1.0 - p_class_1)\n",
    "\n",
    "    if p1 > p0:\n",
    "        return 1\n",
    "    else:\n",
    "        return 0"
   ]
  },
  {
   "cell_type": "code",
   "execution_count": 4,
   "metadata": {
    "collapsed": false
   },
   "outputs": [],
   "source": [
    "list_o_posts, list_classes = load_data_set()\n",
    "my_vocab_list = create_vocab_list(list_o_posts)\n",
    "\n",
    "train_matrix = []\n",
    "\n",
    "for post_in_doc in list_o_posts:\n",
    "    train_matrix.append(set_of_words_2_vec(my_vocab_list, post_in_doc))\n",
    "\n",
    "p_0_v, p_1_v, p_ab = train(array(train_matrix), array(list_classes))"
   ]
  },
  {
   "cell_type": "code",
   "execution_count": 5,
   "metadata": {
    "collapsed": false
   },
   "outputs": [
    {
     "name": "stdout",
     "output_type": "stream",
     "text": [
      "[0 0 1 0 0 0 0 0 0 0 0 0 0 0 0 0 0 0 0 1 0 0 0 0 0 0 0 0 0 1 0 0] [-3.04452244 -3.04452244 -2.35137526 -2.35137526 -3.04452244 -3.04452244\n",
      " -2.35137526 -2.35137526 -2.35137526 -3.04452244 -3.04452244 -2.35137526\n",
      " -2.35137526 -2.35137526 -2.35137526 -3.04452244 -2.35137526 -1.94591015\n",
      " -2.35137526 -1.65822808 -2.35137526 -2.35137526 -2.35137526 -2.35137526\n",
      " -2.35137526 -3.04452244 -3.04452244 -3.04452244 -3.04452244 -2.35137526\n",
      " -2.35137526 -2.35137526] [-2.35137526 -2.35137526 -3.04452244 -3.04452244 -1.65822808 -2.35137526\n",
      " -3.04452244 -3.04452244 -2.35137526 -2.35137526 -2.35137526 -3.04452244\n",
      " -3.04452244 -1.94591015 -3.04452244 -1.94591015 -3.04452244 -2.35137526\n",
      " -3.04452244 -3.04452244 -3.04452244 -3.04452244 -2.35137526 -3.04452244\n",
      " -3.04452244 -2.35137526 -2.35137526 -2.35137526 -2.35137526 -3.04452244\n",
      " -3.04452244 -3.04452244] 0.5\n",
      "['love', 'my', 'dalmation'] classfied as:  0\n",
      "[0 0 0 0 1 0 0 0 0 0 0 0 0 1 0 0 0 0 0 0 0 0 0 0 0 0 0 0 0 0 0 0] [-3.04452244 -3.04452244 -2.35137526 -2.35137526 -3.04452244 -3.04452244\n",
      " -2.35137526 -2.35137526 -2.35137526 -3.04452244 -3.04452244 -2.35137526\n",
      " -2.35137526 -2.35137526 -2.35137526 -3.04452244 -2.35137526 -1.94591015\n",
      " -2.35137526 -1.65822808 -2.35137526 -2.35137526 -2.35137526 -2.35137526\n",
      " -2.35137526 -3.04452244 -3.04452244 -3.04452244 -3.04452244 -2.35137526\n",
      " -2.35137526 -2.35137526] [-2.35137526 -2.35137526 -3.04452244 -3.04452244 -1.65822808 -2.35137526\n",
      " -3.04452244 -3.04452244 -2.35137526 -2.35137526 -2.35137526 -3.04452244\n",
      " -3.04452244 -1.94591015 -3.04452244 -1.94591015 -3.04452244 -2.35137526\n",
      " -3.04452244 -3.04452244 -3.04452244 -3.04452244 -2.35137526 -3.04452244\n",
      " -3.04452244 -2.35137526 -2.35137526 -2.35137526 -2.35137526 -3.04452244\n",
      " -3.04452244 -3.04452244] 0.5\n",
      "['stupid', 'dog'] classified ad:  1\n"
     ]
    }
   ],
   "source": [
    "test_entry = ['love', 'my', 'dalmation']\n",
    "this_doc = array(set_of_words_2_vec(my_vocab_list, test_entry))\n",
    "print (this_doc, p_0_v, p_1_v, p_ab)\n",
    "print (test_entry, 'classfied as: ', classify(this_doc, p_0_v, p_1_v, p_ab))\n",
    "\n",
    "test_entry = ['stupid', 'dog']\n",
    "this_doc = array(set_of_words_2_vec(my_vocab_list, test_entry))\n",
    "print (this_doc, p_0_v, p_1_v, p_ab)\n",
    "print (test_entry, 'classified ad: ', classify(this_doc, p_0_v, p_1_v, p_ab))"
   ]
  },
  {
   "cell_type": "code",
   "execution_count": null,
   "metadata": {
    "collapsed": false
   },
   "outputs": [],
   "source": [
    "list_o_posts, list_classes"
   ]
  },
  {
   "cell_type": "code",
   "execution_count": null,
   "metadata": {
    "collapsed": false
   },
   "outputs": [],
   "source": [
    "my_vocab_list"
   ]
  },
  {
   "cell_type": "code",
   "execution_count": null,
   "metadata": {
    "collapsed": false
   },
   "outputs": [],
   "source": [
    "p_0_v"
   ]
  },
  {
   "cell_type": "code",
   "execution_count": null,
   "metadata": {
    "collapsed": true
   },
   "outputs": [],
   "source": []
  }
 ],
 "metadata": {
  "kernelspec": {
   "display_name": "Python 3",
   "language": "python",
   "name": "python3"
  },
  "language_info": {
   "codemirror_mode": {
    "name": "ipython",
    "version": 3
   },
   "file_extension": ".py",
   "mimetype": "text/x-python",
   "name": "python",
   "nbconvert_exporter": "python",
   "pygments_lexer": "ipython3",
   "version": "3.4.2"
  }
 },
 "nbformat": 4,
 "nbformat_minor": 0
}
