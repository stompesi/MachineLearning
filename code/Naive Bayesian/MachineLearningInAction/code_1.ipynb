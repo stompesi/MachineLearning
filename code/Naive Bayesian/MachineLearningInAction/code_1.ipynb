{
 "cells": [
  {
   "cell_type": "code",
   "execution_count": 1,
   "metadata": {
    "collapsed": true
   },
   "outputs": [],
   "source": [
    "def load_data_set():\n",
    "    # 달마시안 애호가 전자 게시판에서 가져온 문서 집합을 토큰화 한 것\n",
    "    posting_list = [['my', 'dog', 'has', 'flea', 'problems', 'help', 'please'],\n",
    "                   ['maybe', 'not', 'take', 'him', 'to', 'dog', 'park', 'stupid'],\n",
    "                   ['my', 'dalmation', 'is', 'so', 'cute', 'I', 'love', 'him'],\n",
    "                   ['stop', 'posting', 'stupid', 'worthless', 'garbage'],\n",
    "                   ['mr', 'licks', 'ate', 'my', 'steak', 'how', 'to', 'stop', 'him'],\n",
    "                   ['quit', 'buying', 'worthless', 'dog', 'food', 'stupid']]\n",
    "\n",
    "    # 1: 폭력적임, 0: 폭력적이지 않음\n",
    "    # 텍스트에 사람이 직접 분류 항목 표시를 붙이고, 폭력적인 게시물을 자동적으로 감지하는 프로그램을 훈련하는데 사용한다.\n",
    "    class_vec = [0,1,0,1,0,1] \n",
    "    return posting_list, class_vec\n",
    "\n",
    "# 모든 문서에 있는 모든 유일한 단어 목록을 생성한다.\n",
    "def create_vocab_list(data_set):\n",
    "    # 비어있는 집합 생성\n",
    "    vocab_set = set([]) \n",
    "    for document in data_set:\n",
    "        # 연산자 | 는 두 개의 집합 유형의 변수를 합치는 데 사용하는 연산자.\n",
    "        # 두 개의 집합 통합 생성\n",
    "        # ex) {'a', 'b', 'c'} | {'c', 'd', 'e'} \n",
    "        #     -> {'a', 'b', 'c', 'd', 'e'} \n",
    "        vocab_set = vocab_set | set(document)\n",
    "    return list(vocab_set)\n",
    "\n",
    "# 주어진 문서 내에 어휘 목록에 있는 단어가 존재하는지 아닌지를 표현하기 위해 어휘 목록, 문서, \n",
    "# 1과 0의 출력 벡터를 사용한다.\n",
    "def set_of_words_2_vec(vocab_list, input_set):\n",
    "    # 모두 0인 벡터 생성\n",
    "    return_vec = [0] * len(vocab_list) \n",
    "    for word in input_set:\n",
    "        if word in vocab_list:\n",
    "            return_vec[vocab_list.index(word)] = 1\n",
    "        else:\n",
    "            print (\"the word: %s is not in my Vocablulary!\" % word)\n",
    "    return return_vec"
   ]
  },
  {
   "cell_type": "code",
   "execution_count": 3,
   "metadata": {
    "collapsed": false
   },
   "outputs": [
    {
     "data": {
      "text/plain": [
       "([['my', 'dog', 'has', 'flea', 'problems', 'help', 'please'],\n",
       "  ['maybe', 'not', 'take', 'him', 'to', 'dog', 'park', 'stupid'],\n",
       "  ['my', 'dalmation', 'is', 'so', 'cute', 'I', 'love', 'him'],\n",
       "  ['stop', 'posting', 'stupid', 'worthless', 'garbage'],\n",
       "  ['mr', 'licks', 'ate', 'my', 'steak', 'how', 'to', 'stop', 'him'],\n",
       "  ['quit', 'buying', 'worthless', 'dog', 'food', 'stupid']],\n",
       " [0, 1, 0, 1, 0, 1])"
      ]
     },
     "execution_count": 3,
     "metadata": {},
     "output_type": "execute_result"
    }
   ],
   "source": [
    "# Test\n",
    "list_o_posts, list_classes = load_data_set()\n",
    "list_o_posts, list_classes"
   ]
  },
  {
   "cell_type": "code",
   "execution_count": 4,
   "metadata": {
    "collapsed": false
   },
   "outputs": [
    {
     "data": {
      "text/plain": [
       "['maybe',\n",
       " 'has',\n",
       " 'licks',\n",
       " 'flea',\n",
       " 'not',\n",
       " 'food',\n",
       " 'how',\n",
       " 'please',\n",
       " 'cute',\n",
       " 'posting',\n",
       " 'worthless',\n",
       " 'help',\n",
       " 'mr',\n",
       " 'quit',\n",
       " 'steak',\n",
       " 'stop',\n",
       " 'so',\n",
       " 'ate',\n",
       " 'take',\n",
       " 'him',\n",
       " 'stupid',\n",
       " 'my',\n",
       " 'love',\n",
       " 'dog',\n",
       " 'is',\n",
       " 'garbage',\n",
       " 'buying',\n",
       " 'problems',\n",
       " 'park',\n",
       " 'dalmation',\n",
       " 'I',\n",
       " 'to']"
      ]
     },
     "execution_count": 4,
     "metadata": {},
     "output_type": "execute_result"
    }
   ],
   "source": [
    "my_vocab_list = create_vocab_list(list_o_posts)\n",
    "my_vocab_list"
   ]
  },
  {
   "cell_type": "code",
   "execution_count": 5,
   "metadata": {
    "collapsed": false
   },
   "outputs": [
    {
     "data": {
      "text/plain": [
       "[0,\n",
       " 1,\n",
       " 0,\n",
       " 1,\n",
       " 0,\n",
       " 0,\n",
       " 0,\n",
       " 1,\n",
       " 0,\n",
       " 0,\n",
       " 0,\n",
       " 1,\n",
       " 0,\n",
       " 0,\n",
       " 0,\n",
       " 0,\n",
       " 0,\n",
       " 0,\n",
       " 0,\n",
       " 0,\n",
       " 0,\n",
       " 1,\n",
       " 0,\n",
       " 1,\n",
       " 0,\n",
       " 0,\n",
       " 0,\n",
       " 1,\n",
       " 0,\n",
       " 0,\n",
       " 0,\n",
       " 0]"
      ]
     },
     "execution_count": 5,
     "metadata": {},
     "output_type": "execute_result"
    }
   ],
   "source": [
    "set_of_words_2_vec(my_vocab_list, list_o_posts[0])"
   ]
  },
  {
   "cell_type": "code",
   "execution_count": null,
   "metadata": {
    "collapsed": true
   },
   "outputs": [],
   "source": []
  }
 ],
 "metadata": {
  "kernelspec": {
   "display_name": "Python 3",
   "language": "python",
   "name": "python3"
  },
  "language_info": {
   "codemirror_mode": {
    "name": "ipython",
    "version": 3
   },
   "file_extension": ".py",
   "mimetype": "text/x-python",
   "name": "python",
   "nbconvert_exporter": "python",
   "pygments_lexer": "ipython3",
   "version": "3.4.2"
  }
 },
 "nbformat": 4,
 "nbformat_minor": 0
}
