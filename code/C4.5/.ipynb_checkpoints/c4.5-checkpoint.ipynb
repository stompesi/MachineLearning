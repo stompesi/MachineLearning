{
 "cells": [
  {
   "cell_type": "code",
   "execution_count": null,
   "metadata": {
    "collapsed": false
   },
   "outputs": [],
   "source": [
    "import pyC45, csv"
   ]
  },
  {
   "cell_type": "code",
   "execution_count": null,
   "metadata": {
    "collapsed": false
   },
   "outputs": [],
   "source": [
    "training_obs = [] # 각 속성 값\n",
    "training_cat = [] # 분류 하고자하는 데이터\n",
    "\n",
    "with open('./data/training_set.csv', newline='') as f:\n",
    "    reader = csv.reader(f)\n",
    "    for line in reader:\n",
    "        training_obs.append(line[:-1])\n",
    "        training_cat.append(line[-1])"
   ]
  },
  {
   "cell_type": "code",
   "execution_count": null,
   "metadata": {
    "collapsed": false
   },
   "outputs": [],
   "source": [
    "pyC45.train(training_obs, training_cat, \"DecisionTree.xml\")"
   ]
  },
  {
   "cell_type": "code",
   "execution_count": null,
   "metadata": {
    "collapsed": false
   },
   "outputs": [],
   "source": [
    "test_data_set = []\n",
    "answer = []\n",
    "\n",
    "with open('./data/testing_set.csv', newline='') as f:\n",
    "    reader = csv.reader(f)\n",
    "    for line in reader:\n",
    "        test_data_set.append(line[:-1])\n",
    "        answer.append(line[-1])\n",
    "answer.pop(0)"
   ]
  },
  {
   "cell_type": "code",
   "execution_count": null,
   "metadata": {
    "collapsed": true
   },
   "outputs": [],
   "source": [
    "prediction = pyC45.predict(\"DecisionTree.xml\", test_data_set)"
   ]
  },
  {
   "cell_type": "code",
   "execution_count": null,
   "metadata": {
    "collapsed": false
   },
   "outputs": [],
   "source": [
    "err = 0\n",
    "for i in range(len(answer)):\n",
    "    if not answer[i] == prediction[i]:\n",
    "        err = err + 1\n",
    "print (\"error rate=\", round(float(err) / len(prediction) * 100, 2), \"%\")"
   ]
  }
 ],
 "metadata": {
  "kernelspec": {
   "display_name": "Python 3",
   "language": "python",
   "name": "python3"
  },
  "language_info": {
   "codemirror_mode": {
    "name": "ipython",
    "version": 3
   },
   "file_extension": ".py",
   "mimetype": "text/x-python",
   "name": "python",
   "nbconvert_exporter": "python",
   "pygments_lexer": "ipython3",
   "version": "3.4.2"
  }
 },
 "nbformat": 4,
 "nbformat_minor": 0
}
