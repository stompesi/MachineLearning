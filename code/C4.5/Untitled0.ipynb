{
 "metadata": {
  "name": "",
  "signature": "sha256:d9f94c5bc77bf107612cae885393aa59501e0dae92d1e7b03e1810275c4019aa"
 },
 "nbformat": 3,
 "nbformat_minor": 0,
 "worksheets": [
  {
   "cells": [
    {
     "cell_type": "code",
     "collapsed": false,
     "input": [
      "import math\n",
      "import pyC45,csv\n",
      "from  xml.dom import  minidom\n",
      "from xml.etree import ElementTree as ET"
     ],
     "language": "python",
     "metadata": {},
     "outputs": [],
     "prompt_number": 1
    },
    {
     "cell_type": "code",
     "collapsed": false,
     "input": [
      "training_obs=[]\n",
      "training_cat=[]\n",
      "with open('./data/training_set.csv', newline='') as f:\n",
      "    reader = csv.reader(f)\n",
      "    for line in reader:\n",
      "        training_obs.append(line[:-1])\n",
      "        training_cat.append(line[-1])"
     ],
     "language": "python",
     "metadata": {},
     "outputs": [],
     "prompt_number": 2
    },
    {
     "cell_type": "code",
     "collapsed": false,
     "input": [
      "attrs_names = training_obs[0]\n",
      "data = [[] for i in range(len(attrs_names))]\n",
      "categories = []\n",
      "\n",
      "for i in range(1,len(training_obs)):\n",
      "    categories.append(training_cat[i])\n",
      "    for j in range(len(attrs_names)):\n",
      "      data[j].append(training_obs[i][j])"
     ],
     "language": "python",
     "metadata": {},
     "outputs": [],
     "prompt_number": 8
    },
    {
     "cell_type": "code",
     "collapsed": false,
     "input": [
      "root = ET.Element('DecisionTree')\n",
      "tree = ET.ElementTree(root)"
     ],
     "language": "python",
     "metadata": {},
     "outputs": [],
     "prompt_number": 9
    },
    {
     "cell_type": "code",
     "collapsed": false,
     "input": [
      "def isnum(attr):\n",
      "  for x in set(attr):\n",
      "    if not x==\"?\":\n",
      "      try:\n",
      "        x=float(x)\n",
      "        return isinstance(x,float)\n",
      "      except ValueError:\n",
      "        return False\n",
      "  return True"
     ],
     "language": "python",
     "metadata": {},
     "outputs": [],
     "prompt_number": 10
    },
    {
     "cell_type": "code",
     "collapsed": false,
     "input": [
      "division = []\n",
      "category = categories\n",
      "for i in range(len(data)):\n",
      "      # \ud574\ub2f9 \uc18d\uc131\uac12\uc774 \uc5c6\ub294 \ub370\uc774\ud130\uc778\uc9c0 \ud655\uc778\n",
      "      if set(data[i]) == set(\"?\"):\n",
      "        division.append(0)\n",
      "      else:\n",
      "        if (isnum(data[i])):\n",
      "          division.append(gain(category,data[i]))           \n",
      "        else:\n",
      "          division.append(gain_ratio(category,data[i]))"
     ],
     "language": "python",
     "metadata": {},
     "outputs": [
      {
       "ename": "NameError",
       "evalue": "name 'gain' is not defined",
       "output_type": "pyerr",
       "traceback": [
        "\u001b[0;31m---------------------------------------------------------------------------\u001b[0m\n\u001b[0;31mNameError\u001b[0m                                 Traceback (most recent call last)",
        "\u001b[0;32m<ipython-input-11-9f4a791d4482>\u001b[0m in \u001b[0;36m<module>\u001b[0;34m()\u001b[0m\n\u001b[1;32m      7\u001b[0m       \u001b[0;32melse\u001b[0m\u001b[0;34m:\u001b[0m\u001b[0;34m\u001b[0m\u001b[0m\n\u001b[1;32m      8\u001b[0m         \u001b[0;32mif\u001b[0m \u001b[0;34m(\u001b[0m\u001b[0misnum\u001b[0m\u001b[0;34m(\u001b[0m\u001b[0mdata\u001b[0m\u001b[0;34m[\u001b[0m\u001b[0mi\u001b[0m\u001b[0;34m]\u001b[0m\u001b[0;34m)\u001b[0m\u001b[0;34m)\u001b[0m\u001b[0;34m:\u001b[0m\u001b[0;34m\u001b[0m\u001b[0m\n\u001b[0;32m----> 9\u001b[0;31m           \u001b[0mdivision\u001b[0m\u001b[0;34m.\u001b[0m\u001b[0mappend\u001b[0m\u001b[0;34m(\u001b[0m\u001b[0mgain\u001b[0m\u001b[0;34m(\u001b[0m\u001b[0mcategory\u001b[0m\u001b[0;34m,\u001b[0m\u001b[0mdata\u001b[0m\u001b[0;34m[\u001b[0m\u001b[0mi\u001b[0m\u001b[0;34m]\u001b[0m\u001b[0;34m)\u001b[0m\u001b[0;34m)\u001b[0m\u001b[0;34m\u001b[0m\u001b[0m\n\u001b[0m\u001b[1;32m     10\u001b[0m         \u001b[0;32melse\u001b[0m\u001b[0;34m:\u001b[0m\u001b[0;34m\u001b[0m\u001b[0m\n\u001b[1;32m     11\u001b[0m           \u001b[0mdivision\u001b[0m\u001b[0;34m.\u001b[0m\u001b[0mappend\u001b[0m\u001b[0;34m(\u001b[0m\u001b[0mgain_ratio\u001b[0m\u001b[0;34m(\u001b[0m\u001b[0mcategory\u001b[0m\u001b[0;34m,\u001b[0m\u001b[0mdata\u001b[0m\u001b[0;34m[\u001b[0m\u001b[0mi\u001b[0m\u001b[0;34m]\u001b[0m\u001b[0;34m)\u001b[0m\u001b[0;34m)\u001b[0m\u001b[0;34m\u001b[0m\u001b[0m\n",
        "\u001b[0;31mNameError\u001b[0m: name 'gain' is not defined"
       ]
      }
     ],
     "prompt_number": 11
    },
    {
     "cell_type": "code",
     "collapsed": false,
     "input": [
      "cats = []\n",
      "for i in range(len(data[0])):\n",
      "    if not data[0][i]==\"?\":\n",
      "      cats.append([float(data[0][i]), category[i]])"
     ],
     "language": "python",
     "metadata": {},
     "outputs": [],
     "prompt_number": 12
    },
    {
     "cell_type": "code",
     "collapsed": false,
     "input": [
      "def getEntropy(x):\n",
      "  ent = 0\n",
      "  for k in set(x):\n",
      "      p_i = float(x.count(k)) / len(x)\n",
      "      ent = ent - p_i * math.log(p_i, 2)\n",
      "  return ent"
     ],
     "language": "python",
     "metadata": {},
     "outputs": [],
     "prompt_number": 13
    },
    {
     "cell_type": "code",
     "collapsed": false,
     "input": [
      "cats = sorted(cats, key=lambda x:x[0])\n",
      "cat = [cats[i][1] for i in range(len(cats))]\n",
      "att = [cats[i][0] for i in range(len(cats))]\n",
      "gains=[]\n",
      "div_point=[]\n",
      "for i in range(1, len(cat)):\n",
      "      if not att[i] == att[i-1]:\n",
      "        gains.append((getEntropy(cat[:i]) * float(i) / len(cat)) + (getEntropy(cat[i:]) * (1 - float(i) / len(cat))))\n",
      "        div_point.append(i)\n",
      "gain = getEntropy(cat) - min(gains)\n",
      "index = gains.index(min(gains))"
     ],
     "language": "python",
     "metadata": {},
     "outputs": [],
     "prompt_number": 43
    },
    {
     "cell_type": "code",
     "collapsed": false,
     "input": [
      "p_1 = float(div_point[gains.index(min(gains))]) / len(cat)\n",
      "ent_attr = -p_1 * math.log(p_1, 2) - (1 - p_1) * math.log((1 - p_1), 2)"
     ],
     "language": "python",
     "metadata": {},
     "outputs": [],
     "prompt_number": 16
    },
    {
     "cell_type": "code",
     "collapsed": false,
     "input": [
      "category = categories\n",
      "category\n",
      "attr = data[2]"
     ],
     "language": "python",
     "metadata": {},
     "outputs": [],
     "prompt_number": 31
    },
    {
     "cell_type": "code",
     "collapsed": false,
     "input": [
      "s = 0\n",
      "cat = []\n",
      "att = []\n",
      "\n",
      "# \uc54c\uc9c0\ubabb\ud558\ub294 \uc18d\uc131\uac12\uc744 \uc81c\uc678\ud558\uae30 \n",
      "for i in range(len(attr)):\n",
      "    if not attr[i]==\"?\":\n",
      "        cat.append(category[i])\n",
      "        att.append(attr[i])\n",
      "\n",
      "# \uc815\ubcf4\uc774\ub4dd \uad6c\ud558\ub294 \ud568\uc218\n",
      "for i in set(att):      \n",
      "    p_i = float(att.count(i)) / len(att)\n",
      "    cat_i = []\n",
      "    for j in range(len(cat)):\n",
      "      if att[j] == i:\n",
      "        cat_i.append(cat[j])\n",
      "    s = s + p_i * getEntropy(cat_i)\n",
      "\n",
      "gain = getEntropy(cat) - s\n",
      "ent_att = getEntropy(att)"
     ],
     "language": "python",
     "metadata": {},
     "outputs": [],
     "prompt_number": 34
    },
    {
     "cell_type": "code",
     "collapsed": false,
     "input": [
      "set(category)"
     ],
     "language": "python",
     "metadata": {},
     "outputs": [
      {
       "metadata": {},
       "output_type": "pyout",
       "prompt_number": 38,
       "text": [
        "{'compensated hypothyroid',\n",
        " 'negative',\n",
        " 'primary hypothyroid',\n",
        " 'secondary hypothyroid'}"
       ]
      }
     ],
     "prompt_number": 38
    },
    {
     "cell_type": "code",
     "collapsed": false,
     "input": [
      "att[div_point[gains.index(min(gains))]]"
     ],
     "language": "python",
     "metadata": {},
     "outputs": [
      {
       "metadata": {},
       "output_type": "pyout",
       "prompt_number": 44,
       "text": [
        "75.0"
       ]
      }
     ],
     "prompt_number": 44
    },
    {
     "cell_type": "code",
     "collapsed": false,
     "input": [
      "div_point[gains.index(min(gains))]"
     ],
     "language": "python",
     "metadata": {},
     "outputs": [
      {
       "metadata": {},
       "output_type": "pyout",
       "prompt_number": 45,
       "text": [
        "1768"
       ]
      }
     ],
     "prompt_number": 45
    },
    {
     "cell_type": "code",
     "collapsed": false,
     "input": [],
     "language": "python",
     "metadata": {},
     "outputs": []
    }
   ],
   "metadata": {}
  }
 ]
}