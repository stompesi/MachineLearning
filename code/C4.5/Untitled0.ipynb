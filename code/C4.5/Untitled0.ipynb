{
 "metadata": {
  "name": "",
  "signature": "sha256:4d8603f1ff28a13ec9822730104c7f52b422626f83c65ed66fca4191b34637a4"
 },
 "nbformat": 3,
 "nbformat_minor": 0,
 "worksheets": [
  {
   "cells": [
    {
     "cell_type": "code",
     "collapsed": false,
     "input": [
      "import math\n",
      "import pyC45,csv\n",
      "from  xml.dom import  minidom\n",
      "from xml.etree import ElementTree as ET"
     ],
     "language": "python",
     "metadata": {},
     "outputs": [],
     "prompt_number": 103
    },
    {
     "cell_type": "code",
     "collapsed": false,
     "input": [
      "training_obs=[]\n",
      "training_cat=[]\n",
      "with open('./data/training_set.csv', newline='') as f:\n",
      "    reader = csv.reader(f)\n",
      "    for line in reader:\n",
      "        training_obs.append(line[:-1])\n",
      "        training_cat.append(line[-1])"
     ],
     "language": "python",
     "metadata": {},
     "outputs": [],
     "prompt_number": 15
    },
    {
     "cell_type": "code",
     "collapsed": false,
     "input": [
      "data = [[] for i in range(len(attrs_names))]"
     ],
     "language": "python",
     "metadata": {},
     "outputs": [],
     "prompt_number": 60
    },
    {
     "cell_type": "code",
     "collapsed": false,
     "input": [
      "attrs_names = training_obs[0]\n",
      "categories = []\n",
      "\n",
      "for i in range(1,len(training_obs)):\n",
      "    categories.append(training_cat[i])\n",
      "    for j in range(len(attrs_names)):\n",
      "      data[j].append(training_obs[i][j])"
     ],
     "language": "python",
     "metadata": {},
     "outputs": [],
     "prompt_number": 61
    },
    {
     "cell_type": "code",
     "collapsed": false,
     "input": [
      "root = ET.Element('DecisionTree')\n",
      "tree = ET.ElementTree(root)"
     ],
     "language": "python",
     "metadata": {},
     "outputs": [],
     "prompt_number": 68
    },
    {
     "cell_type": "code",
     "collapsed": false,
     "input": [
      "def isnum(attr):\n",
      "  for x in set(attr):\n",
      "    if not x==\"?\":\n",
      "      try:\n",
      "        x=float(x)\n",
      "        return isinstance(x,float)\n",
      "      except ValueError:\n",
      "        return False\n",
      "  return True"
     ],
     "language": "python",
     "metadata": {},
     "outputs": [],
     "prompt_number": 79
    },
    {
     "cell_type": "code",
     "collapsed": false,
     "input": [
      "division = []\n",
      "category = categories\n",
      "for i in range(len(data)):\n",
      "      # \ud574\ub2f9 \uc18d\uc131\uac12\uc774 \uc5c6\ub294 \ub370\uc774\ud130\uc778\uc9c0 \ud655\uc778\n",
      "      if set(data[i]) == set(\"?\"):\n",
      "        division.append(0)\n",
      "      else:\n",
      "        if (isnum(data[i])):\n",
      "          division.append(gain(category,data[i]))           \n",
      "        else:\n",
      "          division.append(gain_ratio(category,data[i]))"
     ],
     "language": "python",
     "metadata": {},
     "outputs": [
      {
       "ename": "NameError",
       "evalue": "name 'gain' is not defined",
       "output_type": "pyerr",
       "traceback": [
        "\u001b[0;31m---------------------------------------------------------------------------\u001b[0m\n\u001b[0;31mNameError\u001b[0m                                 Traceback (most recent call last)",
        "\u001b[0;32m<ipython-input-81-9f4a791d4482>\u001b[0m in \u001b[0;36m<module>\u001b[0;34m()\u001b[0m\n\u001b[1;32m      7\u001b[0m       \u001b[0;32melse\u001b[0m\u001b[0;34m:\u001b[0m\u001b[0;34m\u001b[0m\u001b[0m\n\u001b[1;32m      8\u001b[0m         \u001b[0;32mif\u001b[0m \u001b[0;34m(\u001b[0m\u001b[0misnum\u001b[0m\u001b[0;34m(\u001b[0m\u001b[0mdata\u001b[0m\u001b[0;34m[\u001b[0m\u001b[0mi\u001b[0m\u001b[0;34m]\u001b[0m\u001b[0;34m)\u001b[0m\u001b[0;34m)\u001b[0m\u001b[0;34m:\u001b[0m\u001b[0;34m\u001b[0m\u001b[0m\n\u001b[0;32m----> 9\u001b[0;31m           \u001b[0mdivision\u001b[0m\u001b[0;34m.\u001b[0m\u001b[0mappend\u001b[0m\u001b[0;34m(\u001b[0m\u001b[0mgain\u001b[0m\u001b[0;34m(\u001b[0m\u001b[0mcategory\u001b[0m\u001b[0;34m,\u001b[0m\u001b[0mdata\u001b[0m\u001b[0;34m[\u001b[0m\u001b[0mi\u001b[0m\u001b[0;34m]\u001b[0m\u001b[0;34m)\u001b[0m\u001b[0;34m)\u001b[0m\u001b[0;34m\u001b[0m\u001b[0m\n\u001b[0m\u001b[1;32m     10\u001b[0m         \u001b[0;32melse\u001b[0m\u001b[0;34m:\u001b[0m\u001b[0;34m\u001b[0m\u001b[0m\n\u001b[1;32m     11\u001b[0m           \u001b[0mdivision\u001b[0m\u001b[0;34m.\u001b[0m\u001b[0mappend\u001b[0m\u001b[0;34m(\u001b[0m\u001b[0mgain_ratio\u001b[0m\u001b[0;34m(\u001b[0m\u001b[0mcategory\u001b[0m\u001b[0;34m,\u001b[0m\u001b[0mdata\u001b[0m\u001b[0;34m[\u001b[0m\u001b[0mi\u001b[0m\u001b[0;34m]\u001b[0m\u001b[0;34m)\u001b[0m\u001b[0;34m)\u001b[0m\u001b[0;34m\u001b[0m\u001b[0m\n",
        "\u001b[0;31mNameError\u001b[0m: name 'gain' is not defined"
       ]
      }
     ],
     "prompt_number": 81
    },
    {
     "cell_type": "code",
     "collapsed": false,
     "input": [
      "cats = []\n",
      "for i in range(len(data[0])):\n",
      "    if not data[0][i]==\"?\":\n",
      "      cats.append([float(data[0][i]), category[i]])"
     ],
     "language": "python",
     "metadata": {},
     "outputs": [],
     "prompt_number": 93
    },
    {
     "cell_type": "code",
     "collapsed": false,
     "input": [
      "def getEntropy(x):\n",
      "  ent = 0\n",
      "  for k in set(x):\n",
      "      p_i = float(x.count(k)) / len(x)\n",
      "      ent = ent - p_i * math.log(p_i, 2)\n",
      "  return ent"
     ],
     "language": "python",
     "metadata": {},
     "outputs": [],
     "prompt_number": 116
    },
    {
     "cell_type": "code",
     "collapsed": false,
     "input": [
      "cats = sorted(cats, key=lambda x:x[0])\n",
      "cat = [cats[i][1] for i in range(len(cats))]\n",
      "att = [cats[i][0] for i in range(len(cats))]\n",
      "gains=[]\n",
      "div_point=[]\n",
      "for i in range(1, len(cat)):\n",
      "      if not att[i] == att[i-1]:\n",
      "        gains.append((entropy(cat[:i]) * float(i) / len(cat)) + (entropy(cat[i:]) * (1 - float(i) / len(cat))))\n",
      "        div_point.append(i)\n",
      "gain = getEntropy(cat) - min(gains)\n",
      "index = gains.index(min(gains))"
     ],
     "language": "python",
     "metadata": {},
     "outputs": [],
     "prompt_number": 117
    },
    {
     "cell_type": "code",
     "collapsed": false,
     "input": [
      "p_1 = float(div_point[gains.index(min(gains))]) / len(cat)\n",
      "ent_attr = -p_1 * math.log(p_1, 2) - (1 - p_1) * math.log((1 - p_1), 2)"
     ],
     "language": "python",
     "metadata": {},
     "outputs": [],
     "prompt_number": 113
    },
    {
     "cell_type": "code",
     "collapsed": false,
     "input": [
      "gain/ent_attr"
     ],
     "language": "python",
     "metadata": {},
     "outputs": [
      {
       "metadata": {},
       "output_type": "pyout",
       "prompt_number": 119,
       "text": [
        "0.011063438495384667"
       ]
      }
     ],
     "prompt_number": 119
    },
    {
     "cell_type": "code",
     "collapsed": false,
     "input": [
      "gain"
     ],
     "language": "python",
     "metadata": {},
     "outputs": [
      {
       "metadata": {},
       "output_type": "pyout",
       "prompt_number": 118,
       "text": [
        "0.005728124341598806"
       ]
      }
     ],
     "prompt_number": 118
    },
    {
     "cell_type": "code",
     "collapsed": false,
     "input": [
      "div_point"
     ],
     "language": "python",
     "metadata": {},
     "outputs": [
      {
       "metadata": {},
       "output_type": "pyout",
       "prompt_number": 112,
       "text": [
        "[3,\n",
        " 5,\n",
        " 6,\n",
        " 9,\n",
        " 11,\n",
        " 12,\n",
        " 16,\n",
        " 19,\n",
        " 24,\n",
        " 30,\n",
        " 41,\n",
        " 53,\n",
        " 61,\n",
        " 80,\n",
        " 101,\n",
        " 115,\n",
        " 127,\n",
        " 149,\n",
        " 174,\n",
        " 190,\n",
        " 225,\n",
        " 255,\n",
        " 278,\n",
        " 309,\n",
        " 341,\n",
        " 364,\n",
        " 388,\n",
        " 411,\n",
        " 432,\n",
        " 461,\n",
        " 485,\n",
        " 509,\n",
        " 554,\n",
        " 585,\n",
        " 606,\n",
        " 630,\n",
        " 661,\n",
        " 686,\n",
        " 708,\n",
        " 734,\n",
        " 762,\n",
        " 793,\n",
        " 814,\n",
        " 846,\n",
        " 877,\n",
        " 904,\n",
        " 928,\n",
        " 950,\n",
        " 985,\n",
        " 1019,\n",
        " 1060,\n",
        " 1093,\n",
        " 1127,\n",
        " 1172,\n",
        " 1223,\n",
        " 1269,\n",
        " 1304,\n",
        " 1345,\n",
        " 1383,\n",
        " 1409,\n",
        " 1456,\n",
        " 1484,\n",
        " 1521,\n",
        " 1560,\n",
        " 1591,\n",
        " 1636,\n",
        " 1673,\n",
        " 1709,\n",
        " 1743,\n",
        " 1768,\n",
        " 1800,\n",
        " 1822,\n",
        " 1846,\n",
        " 1875,\n",
        " 1891,\n",
        " 1906,\n",
        " 1914,\n",
        " 1927,\n",
        " 1942,\n",
        " 1960,\n",
        " 1970,\n",
        " 1975,\n",
        " 1981,\n",
        " 1985,\n",
        " 1991,\n",
        " 1994,\n",
        " 1996,\n",
        " 1997,\n",
        " 1998]"
       ]
      }
     ],
     "prompt_number": 112
    },
    {
     "cell_type": "code",
     "collapsed": false,
     "input": [],
     "language": "python",
     "metadata": {},
     "outputs": []
    }
   ],
   "metadata": {}
  }
 ]
}