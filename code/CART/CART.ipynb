{
 "cells": [
  {
   "cell_type": "code",
   "execution_count": 1,
   "metadata": {
    "collapsed": false
   },
   "outputs": [],
   "source": [
    "from numpy import *\n",
    "import regTrees"
   ]
  },
  {
   "cell_type": "code",
   "execution_count": 2,
   "metadata": {
    "collapsed": false
   },
   "outputs": [
    {
     "data": {
      "text/plain": [
       "matrix([[ 1.,  0.,  0.,  0.],\n",
       "        [ 0.,  1.,  0.,  0.],\n",
       "        [ 0.,  0.,  1.,  0.],\n",
       "        [ 0.,  0.,  0.,  1.]])"
      ]
     },
     "execution_count": 2,
     "metadata": {},
     "output_type": "execute_result"
    }
   ],
   "source": [
    "testMat = mat(eye(4))\n",
    "testMat"
   ]
  },
  {
   "cell_type": "code",
   "execution_count": 3,
   "metadata": {
    "collapsed": false
   },
   "outputs": [
    {
     "data": {
      "text/plain": [
       "(matrix([[ 0.,  1.,  0.,  0.]]), matrix([[ 1.,  0.,  0.,  0.],\n",
       "         [ 0.,  0.,  1.,  0.],\n",
       "         [ 0.,  0.,  0.,  1.]]))"
      ]
     },
     "execution_count": 3,
     "metadata": {},
     "output_type": "execute_result"
    }
   ],
   "source": [
    "mat0, mat1 = regTrees.binSplitDataSet(testMat, 1, 0.5)\n",
    "mat0, mat1"
   ]
  },
  {
   "cell_type": "code",
   "execution_count": 4,
   "metadata": {
    "collapsed": false
   },
   "outputs": [
    {
     "data": {
      "text/plain": [
       "matrix([[<map object at 0x10e3c2748>, <map object at 0x10e3c2828>,\n",
       "         <map object at 0x10e3c2710>, <map object at 0x10e3c24e0>,\n",
       "         <map object at 0x10e3c27f0>, <map object at 0x10e3c20f0>,\n",
       "         <map object at 0x10e3c2780>, <map object at 0x10e3c2940>,\n",
       "         <map object at 0x10e3c2978>, <map object at 0x10e3c29e8>,\n",
       "         <map object at 0x10e3c2a58>, <map object at 0x10e3c2ac8>,\n",
       "         <map object at 0x10e3c2b38>, <map object at 0x10e3c2ba8>,\n",
       "         <map object at 0x10e3c2c18>, <map object at 0x10e3c2c88>,\n",
       "         <map object at 0x10e3c2cf8>, <map object at 0x10e3c2d68>,\n",
       "         <map object at 0x10e3c2dd8>, <map object at 0x10e3c2e48>,\n",
       "         <map object at 0x10e3c2ef0>, <map object at 0x10e3c2f98>,\n",
       "         <map object at 0x10e375080>, <map object at 0x10e375128>,\n",
       "         <map object at 0x10e3751d0>, <map object at 0x10e375278>,\n",
       "         <map object at 0x10e375320>, <map object at 0x10e3753c8>,\n",
       "         <map object at 0x10e375470>, <map object at 0x10e375518>,\n",
       "         <map object at 0x10e3755c0>, <map object at 0x10e375668>,\n",
       "         <map object at 0x10e375710>, <map object at 0x10e3757b8>,\n",
       "         <map object at 0x10e375860>, <map object at 0x10e375908>,\n",
       "         <map object at 0x10e3759b0>, <map object at 0x10e375a58>,\n",
       "         <map object at 0x10e375b00>, <map object at 0x10e375ba8>,\n",
       "         <map object at 0x10e375c50>, <map object at 0x10e375cf8>,\n",
       "         <map object at 0x10e375da0>, <map object at 0x10e375e48>,\n",
       "         <map object at 0x10e375ef0>, <map object at 0x10e375f98>,\n",
       "         <map object at 0x10e3b8080>, <map object at 0x10e3b8128>,\n",
       "         <map object at 0x10e3b81d0>, <map object at 0x10e3b8278>,\n",
       "         <map object at 0x10e3b8320>, <map object at 0x10e3b83c8>,\n",
       "         <map object at 0x10e3b8470>, <map object at 0x10e3b8518>,\n",
       "         <map object at 0x10e3b85c0>, <map object at 0x10e3b8668>,\n",
       "         <map object at 0x10e3b8710>, <map object at 0x10e3b87b8>,\n",
       "         <map object at 0x10e3b8860>, <map object at 0x10e3b8908>,\n",
       "         <map object at 0x10e3b89b0>, <map object at 0x10e3b8a58>,\n",
       "         <map object at 0x10e3b8b00>, <map object at 0x10e3b8ba8>,\n",
       "         <map object at 0x10e3b8c50>, <map object at 0x10e3b8cf8>,\n",
       "         <map object at 0x10e3b8da0>, <map object at 0x10e3b8e48>,\n",
       "         <map object at 0x10e3b8ef0>, <map object at 0x10e3b8f98>,\n",
       "         <map object at 0x10e3b9080>, <map object at 0x10e3b9128>,\n",
       "         <map object at 0x10e3b91d0>, <map object at 0x10e3b9278>,\n",
       "         <map object at 0x10e3b9320>, <map object at 0x10e3b93c8>,\n",
       "         <map object at 0x10e3b9470>, <map object at 0x10e3b9518>,\n",
       "         <map object at 0x10e3b95c0>, <map object at 0x10e3b9668>,\n",
       "         <map object at 0x10e3b9710>, <map object at 0x10e3b97b8>,\n",
       "         <map object at 0x10e3b9860>, <map object at 0x10e3b9908>,\n",
       "         <map object at 0x10e3b99b0>, <map object at 0x10e3b9a58>,\n",
       "         <map object at 0x10e3b9b00>, <map object at 0x10e3b9ba8>,\n",
       "         <map object at 0x10e3b9c50>, <map object at 0x10e3b9cf8>,\n",
       "         <map object at 0x10e3b9da0>, <map object at 0x10e3b9e48>,\n",
       "         <map object at 0x10e3b9ef0>, <map object at 0x10e3b9f98>,\n",
       "         <map object at 0x10e3bb080>, <map object at 0x10e3bb128>,\n",
       "         <map object at 0x10e3bb1d0>, <map object at 0x10e3bb278>,\n",
       "         <map object at 0x10e3bb320>, <map object at 0x10e3bb3c8>,\n",
       "         <map object at 0x10e3bb470>, <map object at 0x10e3bb518>,\n",
       "         <map object at 0x10e3bb5c0>, <map object at 0x10e3bb668>,\n",
       "         <map object at 0x10e3bb710>, <map object at 0x10e3bb7b8>,\n",
       "         <map object at 0x10e3bb860>, <map object at 0x10e3bb908>,\n",
       "         <map object at 0x10e3bb9b0>, <map object at 0x10e3bba58>,\n",
       "         <map object at 0x10e3bbb00>, <map object at 0x10e3bbba8>,\n",
       "         <map object at 0x10e3bbc50>, <map object at 0x10e3bbcf8>,\n",
       "         <map object at 0x10e3bbda0>, <map object at 0x10e3bbe48>,\n",
       "         <map object at 0x10e3bbef0>, <map object at 0x10e3bbf98>,\n",
       "         <map object at 0x10e3bd080>, <map object at 0x10e3bd128>,\n",
       "         <map object at 0x10e3bd1d0>, <map object at 0x10e3bd278>,\n",
       "         <map object at 0x10e3bd320>, <map object at 0x10e3bd3c8>,\n",
       "         <map object at 0x10e3bd470>, <map object at 0x10e3bd518>,\n",
       "         <map object at 0x10e3bd5c0>, <map object at 0x10e3bd668>,\n",
       "         <map object at 0x10e3bd710>, <map object at 0x10e3bd7b8>,\n",
       "         <map object at 0x10e3bd860>, <map object at 0x10e3bd908>,\n",
       "         <map object at 0x10e3bd9b0>, <map object at 0x10e3bda58>,\n",
       "         <map object at 0x10e3bdb00>, <map object at 0x10e3bdba8>,\n",
       "         <map object at 0x10e3bdc50>, <map object at 0x10e3bdcf8>,\n",
       "         <map object at 0x10e3bdda0>, <map object at 0x10e3bde48>,\n",
       "         <map object at 0x10e3bdef0>, <map object at 0x10e3bdf98>,\n",
       "         <map object at 0x10e3bf080>, <map object at 0x10e3bf128>,\n",
       "         <map object at 0x10e3bf1d0>, <map object at 0x10e3bf278>,\n",
       "         <map object at 0x10e3bf320>, <map object at 0x10e3bf3c8>,\n",
       "         <map object at 0x10e3bf470>, <map object at 0x10e3bf518>,\n",
       "         <map object at 0x10e3bf5c0>, <map object at 0x10e3bf668>,\n",
       "         <map object at 0x10e3bf710>, <map object at 0x10e3bf7b8>,\n",
       "         <map object at 0x10e3bf860>, <map object at 0x10e3bf908>,\n",
       "         <map object at 0x10e3bf9b0>, <map object at 0x10e3bfa58>,\n",
       "         <map object at 0x10e3bfb00>, <map object at 0x10e3bfba8>,\n",
       "         <map object at 0x10e3bfc50>, <map object at 0x10e3bfcf8>,\n",
       "         <map object at 0x10e3bfda0>, <map object at 0x10e3bfe48>,\n",
       "         <map object at 0x10e3bfef0>, <map object at 0x10e3bff98>,\n",
       "         <map object at 0x10e3c1080>, <map object at 0x10e3c1128>,\n",
       "         <map object at 0x10e3c11d0>, <map object at 0x10e3c1278>,\n",
       "         <map object at 0x10e3c1320>, <map object at 0x10e3c13c8>,\n",
       "         <map object at 0x10e3c1470>, <map object at 0x10e3c1518>,\n",
       "         <map object at 0x10e3c15c0>, <map object at 0x10e3c1668>,\n",
       "         <map object at 0x10e3c1710>, <map object at 0x10e3c17b8>,\n",
       "         <map object at 0x10e3c1860>, <map object at 0x10e3c1908>,\n",
       "         <map object at 0x10e3c19b0>, <map object at 0x10e3c1a58>,\n",
       "         <map object at 0x10e3c1b00>, <map object at 0x10e3c1ba8>,\n",
       "         <map object at 0x10e3c1c50>, <map object at 0x10e3c1cf8>,\n",
       "         <map object at 0x10e3c1da0>, <map object at 0x10e3c1e48>,\n",
       "         <map object at 0x10e3c1ef0>, <map object at 0x10e3c1f98>,\n",
       "         <map object at 0x10e3c5080>, <map object at 0x10e3c5128>,\n",
       "         <map object at 0x10e3c51d0>, <map object at 0x10e3c5278>,\n",
       "         <map object at 0x10e3c5320>, <map object at 0x10e3c53c8>,\n",
       "         <map object at 0x10e3c5470>, <map object at 0x10e3c5518>,\n",
       "         <map object at 0x10e3c55c0>, <map object at 0x10e3c5668>]], dtype=object)"
      ]
     },
     "execution_count": 4,
     "metadata": {},
     "output_type": "execute_result"
    }
   ],
   "source": [
    "myDat = regTrees.loadDataSet('ex00.txt')\n",
    "myMat = mat(myDat)\n",
    "myMat"
   ]
  },
  {
   "cell_type": "code",
   "execution_count": 6,
   "metadata": {
    "collapsed": false
   },
   "outputs": [
    {
     "ename": "TypeError",
     "evalue": "unsupported operand type(s) for /: 'map' and 'int'",
     "output_type": "error",
     "traceback": [
      "\u001b[0;31m---------------------------------------------------------------------------\u001b[0m",
      "\u001b[0;31mTypeError\u001b[0m                                 Traceback (most recent call last)",
      "\u001b[0;32m<ipython-input-6-06eda1165c46>\u001b[0m in \u001b[0;36m<module>\u001b[0;34m()\u001b[0m\n\u001b[0;32m----> 1\u001b[0;31m \u001b[0mregTrees\u001b[0m\u001b[0;34m.\u001b[0m\u001b[0mcreateTree\u001b[0m\u001b[0;34m(\u001b[0m\u001b[0mmyMat\u001b[0m\u001b[0;34m)\u001b[0m\u001b[0;34m\u001b[0m\u001b[0m\n\u001b[0m",
      "\u001b[0;32m/Users/hwayo/Desktop/Machine Learning/code/CART/regTrees.py\u001b[0m in \u001b[0;36mcreateTree\u001b[0;34m(dataSet, leafType, errType, ops)\u001b[0m\n\u001b[1;32m     74\u001b[0m \u001b[0;34m\u001b[0m\u001b[0m\n\u001b[1;32m     75\u001b[0m \u001b[0;32mdef\u001b[0m \u001b[0mcreateTree\u001b[0m\u001b[0;34m(\u001b[0m\u001b[0mdataSet\u001b[0m\u001b[0;34m,\u001b[0m \u001b[0mleafType\u001b[0m\u001b[0;34m=\u001b[0m\u001b[0mregLeaf\u001b[0m\u001b[0;34m,\u001b[0m \u001b[0merrType\u001b[0m\u001b[0;34m=\u001b[0m\u001b[0mregErr\u001b[0m\u001b[0;34m,\u001b[0m \u001b[0mops\u001b[0m\u001b[0;34m=\u001b[0m\u001b[0;34m(\u001b[0m\u001b[0;36m1\u001b[0m\u001b[0;34m,\u001b[0m\u001b[0;36m4\u001b[0m\u001b[0;34m)\u001b[0m\u001b[0;34m)\u001b[0m\u001b[0;34m:\u001b[0m\u001b[0;31m#assume dataSet is NumPy Mat so we can array filtering\u001b[0m\u001b[0;34m\u001b[0m\u001b[0m\n\u001b[0;32m---> 76\u001b[0;31m     \u001b[0mfeat\u001b[0m\u001b[0;34m,\u001b[0m \u001b[0mval\u001b[0m \u001b[0;34m=\u001b[0m \u001b[0mchooseBestSplit\u001b[0m\u001b[0;34m(\u001b[0m\u001b[0mdataSet\u001b[0m\u001b[0;34m,\u001b[0m \u001b[0mleafType\u001b[0m\u001b[0;34m,\u001b[0m \u001b[0merrType\u001b[0m\u001b[0;34m,\u001b[0m \u001b[0mops\u001b[0m\u001b[0;34m)\u001b[0m\u001b[0;31m#choose the best split\u001b[0m\u001b[0;34m\u001b[0m\u001b[0m\n\u001b[0m\u001b[1;32m     77\u001b[0m     \u001b[0;32mif\u001b[0m \u001b[0mfeat\u001b[0m \u001b[0;34m==\u001b[0m \u001b[0;32mNone\u001b[0m\u001b[0;34m:\u001b[0m \u001b[0;32mreturn\u001b[0m \u001b[0mval\u001b[0m \u001b[0;31m#if the splitting hit a stop condition return val\u001b[0m\u001b[0;34m\u001b[0m\u001b[0m\n\u001b[1;32m     78\u001b[0m     \u001b[0mretTree\u001b[0m \u001b[0;34m=\u001b[0m \u001b[0;34m{\u001b[0m\u001b[0;34m}\u001b[0m\u001b[0;34m\u001b[0m\u001b[0m\n",
      "\u001b[0;32m/Users/hwayo/Desktop/Machine Learning/code/CART/regTrees.py\u001b[0m in \u001b[0;36mchooseBestSplit\u001b[0;34m(dataSet, leafType, errType, ops)\u001b[0m\n\u001b[1;32m     50\u001b[0m     \u001b[0;31m#if all the target variables are the same value: quit and return value\u001b[0m\u001b[0;34m\u001b[0m\u001b[0;34m\u001b[0m\u001b[0m\n\u001b[1;32m     51\u001b[0m     \u001b[0;32mif\u001b[0m \u001b[0mlen\u001b[0m\u001b[0;34m(\u001b[0m\u001b[0mset\u001b[0m\u001b[0;34m(\u001b[0m\u001b[0mdataSet\u001b[0m\u001b[0;34m[\u001b[0m\u001b[0;34m:\u001b[0m\u001b[0;34m,\u001b[0m\u001b[0;34m-\u001b[0m\u001b[0;36m1\u001b[0m\u001b[0;34m]\u001b[0m\u001b[0;34m.\u001b[0m\u001b[0mT\u001b[0m\u001b[0;34m.\u001b[0m\u001b[0mtolist\u001b[0m\u001b[0;34m(\u001b[0m\u001b[0;34m)\u001b[0m\u001b[0;34m[\u001b[0m\u001b[0;36m0\u001b[0m\u001b[0;34m]\u001b[0m\u001b[0;34m)\u001b[0m\u001b[0;34m)\u001b[0m \u001b[0;34m==\u001b[0m \u001b[0;36m1\u001b[0m\u001b[0;34m:\u001b[0m \u001b[0;31m#exit cond 1\u001b[0m\u001b[0;34m\u001b[0m\u001b[0m\n\u001b[0;32m---> 52\u001b[0;31m         \u001b[0;32mreturn\u001b[0m \u001b[0;32mNone\u001b[0m\u001b[0;34m,\u001b[0m \u001b[0mleafType\u001b[0m\u001b[0;34m(\u001b[0m\u001b[0mdataSet\u001b[0m\u001b[0;34m)\u001b[0m\u001b[0;34m\u001b[0m\u001b[0m\n\u001b[0m\u001b[1;32m     53\u001b[0m     \u001b[0mm\u001b[0m\u001b[0;34m,\u001b[0m\u001b[0mn\u001b[0m \u001b[0;34m=\u001b[0m \u001b[0mshape\u001b[0m\u001b[0;34m(\u001b[0m\u001b[0mdataSet\u001b[0m\u001b[0;34m)\u001b[0m\u001b[0;34m\u001b[0m\u001b[0m\n\u001b[1;32m     54\u001b[0m     \u001b[0;31m#the choice of the best feature is driven by Reduction in RSS error from mean\u001b[0m\u001b[0;34m\u001b[0m\u001b[0;34m\u001b[0m\u001b[0m\n",
      "\u001b[0;32m/Users/hwayo/Desktop/Machine Learning/code/CART/regTrees.py\u001b[0m in \u001b[0;36mregLeaf\u001b[0;34m(dataSet)\u001b[0m\n\u001b[1;32m     21\u001b[0m \u001b[0;34m\u001b[0m\u001b[0m\n\u001b[1;32m     22\u001b[0m \u001b[0;32mdef\u001b[0m \u001b[0mregLeaf\u001b[0m\u001b[0;34m(\u001b[0m\u001b[0mdataSet\u001b[0m\u001b[0;34m)\u001b[0m\u001b[0;34m:\u001b[0m\u001b[0;31m#returns the value used for each leaf\u001b[0m\u001b[0;34m\u001b[0m\u001b[0m\n\u001b[0;32m---> 23\u001b[0;31m     \u001b[0;32mreturn\u001b[0m \u001b[0mmean\u001b[0m\u001b[0;34m(\u001b[0m\u001b[0mdataSet\u001b[0m\u001b[0;34m[\u001b[0m\u001b[0;34m:\u001b[0m\u001b[0;34m,\u001b[0m\u001b[0;34m-\u001b[0m\u001b[0;36m1\u001b[0m\u001b[0;34m]\u001b[0m\u001b[0;34m)\u001b[0m\u001b[0;34m\u001b[0m\u001b[0m\n\u001b[0m\u001b[1;32m     24\u001b[0m \u001b[0;34m\u001b[0m\u001b[0m\n\u001b[1;32m     25\u001b[0m \u001b[0;32mdef\u001b[0m \u001b[0mregErr\u001b[0m\u001b[0;34m(\u001b[0m\u001b[0mdataSet\u001b[0m\u001b[0;34m)\u001b[0m\u001b[0;34m:\u001b[0m\u001b[0;34m\u001b[0m\u001b[0m\n",
      "\u001b[0;32m/Users/hwayo/.pyenv/versions/machinelearning/lib/python3.4/site-packages/numpy/core/fromnumeric.py\u001b[0m in \u001b[0;36mmean\u001b[0;34m(a, axis, dtype, out, keepdims)\u001b[0m\n\u001b[1;32m   2728\u001b[0m         \u001b[0;32mtry\u001b[0m\u001b[0;34m:\u001b[0m\u001b[0;34m\u001b[0m\u001b[0m\n\u001b[1;32m   2729\u001b[0m             \u001b[0mmean\u001b[0m \u001b[0;34m=\u001b[0m \u001b[0ma\u001b[0m\u001b[0;34m.\u001b[0m\u001b[0mmean\u001b[0m\u001b[0;34m\u001b[0m\u001b[0m\n\u001b[0;32m-> 2730\u001b[0;31m             \u001b[0;32mreturn\u001b[0m \u001b[0mmean\u001b[0m\u001b[0;34m(\u001b[0m\u001b[0maxis\u001b[0m\u001b[0;34m=\u001b[0m\u001b[0maxis\u001b[0m\u001b[0;34m,\u001b[0m \u001b[0mdtype\u001b[0m\u001b[0;34m=\u001b[0m\u001b[0mdtype\u001b[0m\u001b[0;34m,\u001b[0m \u001b[0mout\u001b[0m\u001b[0;34m=\u001b[0m\u001b[0mout\u001b[0m\u001b[0;34m)\u001b[0m\u001b[0;34m\u001b[0m\u001b[0m\n\u001b[0m\u001b[1;32m   2731\u001b[0m         \u001b[0;32mexcept\u001b[0m \u001b[0mAttributeError\u001b[0m\u001b[0;34m:\u001b[0m\u001b[0;34m\u001b[0m\u001b[0m\n\u001b[1;32m   2732\u001b[0m             \u001b[0;32mpass\u001b[0m\u001b[0;34m\u001b[0m\u001b[0m\n",
      "\u001b[0;32m/Users/hwayo/.pyenv/versions/machinelearning/lib/python3.4/site-packages/numpy/matrixlib/defmatrix.py\u001b[0m in \u001b[0;36mmean\u001b[0;34m(self, axis, dtype, out)\u001b[0m\n\u001b[1;32m    487\u001b[0m \u001b[0;34m\u001b[0m\u001b[0m\n\u001b[1;32m    488\u001b[0m         \"\"\"\n\u001b[0;32m--> 489\u001b[0;31m         \u001b[0;32mreturn\u001b[0m \u001b[0mN\u001b[0m\u001b[0;34m.\u001b[0m\u001b[0mndarray\u001b[0m\u001b[0;34m.\u001b[0m\u001b[0mmean\u001b[0m\u001b[0;34m(\u001b[0m\u001b[0mself\u001b[0m\u001b[0;34m,\u001b[0m \u001b[0maxis\u001b[0m\u001b[0;34m,\u001b[0m \u001b[0mdtype\u001b[0m\u001b[0;34m,\u001b[0m \u001b[0mout\u001b[0m\u001b[0;34m,\u001b[0m \u001b[0mkeepdims\u001b[0m\u001b[0;34m=\u001b[0m\u001b[0;32mTrue\u001b[0m\u001b[0;34m)\u001b[0m\u001b[0;34m.\u001b[0m\u001b[0m_collapse\u001b[0m\u001b[0;34m(\u001b[0m\u001b[0maxis\u001b[0m\u001b[0;34m)\u001b[0m\u001b[0;34m\u001b[0m\u001b[0m\n\u001b[0m\u001b[1;32m    490\u001b[0m \u001b[0;34m\u001b[0m\u001b[0m\n\u001b[1;32m    491\u001b[0m     \u001b[0;32mdef\u001b[0m \u001b[0mstd\u001b[0m\u001b[0;34m(\u001b[0m\u001b[0mself\u001b[0m\u001b[0;34m,\u001b[0m \u001b[0maxis\u001b[0m\u001b[0;34m=\u001b[0m\u001b[0;32mNone\u001b[0m\u001b[0;34m,\u001b[0m \u001b[0mdtype\u001b[0m\u001b[0;34m=\u001b[0m\u001b[0;32mNone\u001b[0m\u001b[0;34m,\u001b[0m \u001b[0mout\u001b[0m\u001b[0;34m=\u001b[0m\u001b[0;32mNone\u001b[0m\u001b[0;34m,\u001b[0m \u001b[0mddof\u001b[0m\u001b[0;34m=\u001b[0m\u001b[0;36m0\u001b[0m\u001b[0;34m)\u001b[0m\u001b[0;34m:\u001b[0m\u001b[0;34m\u001b[0m\u001b[0m\n",
      "\u001b[0;32m/Users/hwayo/.pyenv/versions/machinelearning/lib/python3.4/site-packages/numpy/core/_methods.py\u001b[0m in \u001b[0;36m_mean\u001b[0;34m(a, axis, dtype, out, keepdims)\u001b[0m\n\u001b[1;32m     67\u001b[0m     \u001b[0;32mif\u001b[0m \u001b[0misinstance\u001b[0m\u001b[0;34m(\u001b[0m\u001b[0mret\u001b[0m\u001b[0;34m,\u001b[0m \u001b[0mmu\u001b[0m\u001b[0;34m.\u001b[0m\u001b[0mndarray\u001b[0m\u001b[0;34m)\u001b[0m\u001b[0;34m:\u001b[0m\u001b[0;34m\u001b[0m\u001b[0m\n\u001b[1;32m     68\u001b[0m         ret = um.true_divide(\n\u001b[0;32m---> 69\u001b[0;31m                 ret, rcount, out=ret, casting='unsafe', subok=False)\n\u001b[0m\u001b[1;32m     70\u001b[0m     \u001b[0;32melif\u001b[0m \u001b[0mhasattr\u001b[0m\u001b[0;34m(\u001b[0m\u001b[0mret\u001b[0m\u001b[0;34m,\u001b[0m \u001b[0;34m'dtype'\u001b[0m\u001b[0;34m)\u001b[0m\u001b[0;34m:\u001b[0m\u001b[0;34m\u001b[0m\u001b[0m\n\u001b[1;32m     71\u001b[0m         \u001b[0mret\u001b[0m \u001b[0;34m=\u001b[0m \u001b[0mret\u001b[0m\u001b[0;34m.\u001b[0m\u001b[0mdtype\u001b[0m\u001b[0;34m.\u001b[0m\u001b[0mtype\u001b[0m\u001b[0;34m(\u001b[0m\u001b[0mret\u001b[0m \u001b[0;34m/\u001b[0m \u001b[0mrcount\u001b[0m\u001b[0;34m)\u001b[0m\u001b[0;34m\u001b[0m\u001b[0m\n",
      "\u001b[0;31mTypeError\u001b[0m: unsupported operand type(s) for /: 'map' and 'int'"
     ]
    }
   ],
   "source": [
    "regTrees.createTree(myMat)"
   ]
  },
  {
   "cell_type": "code",
   "execution_count": null,
   "metadata": {
    "collapsed": true
   },
   "outputs": [],
   "source": []
  }
 ],
 "metadata": {
  "kernelspec": {
   "display_name": "Python 3",
   "language": "python",
   "name": "python3"
  },
  "language_info": {
   "codemirror_mode": {
    "name": "ipython",
    "version": 3
   },
   "file_extension": ".py",
   "mimetype": "text/x-python",
   "name": "python",
   "nbconvert_exporter": "python",
   "pygments_lexer": "ipython3",
   "version": "3.4.2"
  }
 },
 "nbformat": 4,
 "nbformat_minor": 0
}
